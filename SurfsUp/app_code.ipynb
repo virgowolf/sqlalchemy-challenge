{
 "cells": [
  {
   "cell_type": "code",
   "execution_count": null,
   "id": "9799b9c8-7b1a-4b2c-94f1-1c1b95e4e0f3",
   "metadata": {},
   "outputs": [],
   "source": [
    "# Import the dependencies.\n",
    "import numpy as np\n",
    "\n",
    "import sqlalchemy\n",
    "from sqlalchemy.ext.automap import automap_base\n",
    "from sqlalchemy.orm import Session\n",
    "from sqlalchemy import create_engine, func\n",
    "\n",
    "from flask import Flask, jsonify"
   ]
  },
  {
   "cell_type": "code",
   "execution_count": null,
   "id": "9dd6ff0a-a846-48bc-9fc0-a9c094815462",
   "metadata": {},
   "outputs": [],
   "source": [
    "#################################################\n",
    "# Database Setup\n",
    "#################################################\n",
    "engine = create_engine(\"sqlite:///Resources/hawaii.sqlite\")\n",
    "\n",
    "# reflect an existing database into a new model\n",
    "Base = automap_base()\n",
    "\n",
    "# reflect the tables\n",
    "Base.prepare(engine, reflect=True)\n",
    "\n",
    "# Save references to each table\n",
    "Measurement = Base.classes.measurement\n",
    "Station = Base.classes.station\n",
    "\n",
    "# Create our session (link) from Python to the DB\n",
    "session = Session(engine)"
   ]
  },
  {
   "cell_type": "code",
   "execution_count": null,
   "id": "13b56162-9049-4247-8994-10c3a3424c4e",
   "metadata": {},
   "outputs": [],
   "source": [
    "#################################################\n",
    "# Flask Setup\n",
    "#################################################\n",
    "app = Flask(__name__)\n"
   ]
  },
  {
   "cell_type": "code",
   "execution_count": null,
   "id": "a052b323-ca81-415b-82ff-f7fded506828",
   "metadata": {},
   "outputs": [],
   "source": [
    "#################################################\n",
    "# Flask Routes\n",
    "#################################################\n",
    "\n",
    "#Start at the homepage. List all the available routes.\n",
    "\n",
    "@app.route(\"/\")\n",
    "def welcome():\n",
    "    \"\"\"List all available api routes.\"\"\"\n",
    "    return (\n",
    "        f\"Available Routes:<br/>\"\n",
    "        f\"/api/v1.0/measurement<br/>\"\n",
    "        f\"/api/v1.0/station\"\n",
    "    )\n"
   ]
  },
  {
   "cell_type": "code",
   "execution_count": null,
   "id": "e58faa50-a666-4285-9d49-f57eca8103c0",
   "metadata": {},
   "outputs": [],
   "source": [
    "# Route to retrieve precipitation data for the last 12 months\n",
    "@app.route(\"/api/v1.0/precipitation\")\n",
    "def precipitation():\n",
    "    # Parse the end date into a datetime object\n",
    "    end_date = parser.parse('2017-08-23')\n",
    "\n",
    "    # Calculate the start date by subtracting 12 months from the end date\n",
    "    start_date = end_date - relativedelta.relativedelta(months=12)\n",
    "\n",
    "    # Query using the calculated start and end dates\n",
    "    precipitations = session.query(Measurement.prcp, Measurement.date).filter(\n",
    "        Measurement.date >= start_date, Measurement.date <= end_date).all()\n"
   ]
  },
  {
   "cell_type": "code",
   "execution_count": null,
   "id": "cff98de5-afd1-4ae2-8391-d1e2cc3f4caa",
   "metadata": {},
   "outputs": [],
   "source": [
    "#Create a list of dictionaries containing the precip and dates\n",
    "all_precipitations = []\n",
    "\n",
    "for prcp, date in precipitations:\n",
    "\tprecip_dictionary = {}\n",
    "\tprecip_dictionary[\"date\"] = date\n",
    "\tprecip_dictionary[\"precipitation\"] = pcrp\n",
    "\tall_precipitations.append(precip_dictionary)\n",
    "\t\n",
    "\n",
    "#Return the JSON representation of your dictionary.\n",
    "return jsonify(all_precipitations)\n",
    "\n",
    "if __name__ == '__main__':\n",
    "    app.run(debug=True)"
   ]
  },
  {
   "cell_type": "code",
   "execution_count": null,
   "id": "efee6b7b-00ec-43e2-abb4-17ac0a5807a3",
   "metadata": {},
   "outputs": [],
   "source": [
    "# /api/v1.0/stations\n",
    "\n",
    "# Return a JSON list of stations from the dataset.\n"
   ]
  },
  {
   "cell_type": "code",
   "execution_count": null,
   "id": "f4c0813a-775a-472d-9b60-28b1c08993de",
   "metadata": {},
   "outputs": [],
   "source": [
    "# /api/v1.0/tobs Query the dates and temperature observations of the most-active station for the previous year of data.\n",
    "\n",
    "# Return a JSON list of temperature observations for the previous year."
   ]
  },
  {
   "cell_type": "code",
   "execution_count": null,
   "id": "185133fc-e585-4e62-80d0-f129e7a44a4d",
   "metadata": {},
   "outputs": [],
   "source": [
    "# #/api/v1.0/<start> and /api/v1.0/<start>/<end>\n",
    "\n",
    "# Return a JSON list of the minimum temperature, the average temperature, and the maximum temperature for a specified start\n",
    "#or start-end range.\n",
    "\n",
    "# For a specified start, calculate TMIN, TAVG, and TMAX for all the dates greater than or equal to the start date.\n",
    "\n",
    "# For a specified start date and end date, calculate TMIN, TAVG, and TMAX for the dates from the start date\n",
    "#to the end date, inclusive."
   ]
  }
 ],
 "metadata": {
  "kernelspec": {
   "display_name": "Python 3 (ipykernel)",
   "language": "python",
   "name": "python3"
  },
  "language_info": {
   "codemirror_mode": {
    "name": "ipython",
    "version": 3
   },
   "file_extension": ".py",
   "mimetype": "text/x-python",
   "name": "python",
   "nbconvert_exporter": "python",
   "pygments_lexer": "ipython3",
   "version": "3.10.13"
  }
 },
 "nbformat": 4,
 "nbformat_minor": 5
}
