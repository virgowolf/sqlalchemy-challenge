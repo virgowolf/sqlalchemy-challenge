%matplotlib inline
from matplotlib import style
style.use('fivethirtyeight')
import matplotlib.pyplot as plt


import numpy as np
import pandas as pd
import datetime as dt





# Python SQL toolkit and Object Relational Mapper
import sqlalchemy
from sqlalchemy.ext.automap import automap_base
from sqlalchemy.orm import Session
from sqlalchemy import create_engine, func, inspect


# create engine to hawaii.sqlite
engine = create_engine("sqlite:///Resources/hawaii.sqlite")


# reflect an existing database into a new model
Base = automap_base()

# Use the Base class to reflect the database tables
Base.prepare(autoload_with=engine)


# View all of the classes that automap found
Base.classes.keys()


#Create the inspector and connect it to the engine
inspector = inspect(engine)

# Inspect columns and data types for 'measurement' table
columns= inspector.get_columns('measurement')
for column in columns:
    print(column['name'], column['type'])


# Inspect columns and data types for 'measurement' table
columns= inspector.get_columns('station')
for column in columns:
    print(column['name'], column['type'])


# Assign the measurement class to a variable called measurement
Measurement = Base.classes.measurement

# Assign the station class to a variable called station
Station= Base.classes.station


# Create our session (link) from Python to the DB
session = Session(engine)





# Find the most recent date in the data set.
from sqlalchemy import desc

most_recent_date = session.query(Measurement.date).order_by(desc(Measurement.date)).first()
print(most_recent_date)


#Using that date, get the previous 12 months of precipitation data by querying the previous 12 months of data.
from dateutil import parser, relativedelta

# Parse the end date into a datetime object
end_date = parser.parse('2017-08-23')

# Calculate the start date by subtracting 12 months from the end date
start_date = end_date - relativedelta.relativedelta(months=12)

# Query using the calculated start and end dates
precipitations = session.query(Measurement.prcp, Measurement.date).filter(Measurement.date >= start_date, Measurement.date <= end_date).all()

# Create a list of tuples containing the precipitation and date data
precip_data = [(precipitation.prcp, precipitation.date) for precipitation in precipitations]

# Print the results
for precipitation in precipitations:
    print(f"Precipitation: {precipitation}")


# Save the query results as a Pandas DataFrame. Explicitly set the column names.
precip_df = pd.DataFrame(precip_data, columns=['Precipitation', 'Date'])

precip_df
# Sort the dataframe by date
precip_df=

# Use Pandas Plotting with Matplotlib to plot the data



# Use Pandas to calculate the summary statistics for the precipitation data






# Design a query to calculate the total number of stations in the dataset



# Design a query to find the most active stations (i.e. which stations have the most rows?)
# List the stations and their counts in descending order.



# Using the most active station id from the previous query, calculate the lowest, highest, and average temperature.



# Using the most active station id
# Query the last 12 months of temperature observation data for this station and plot the results as a histogram






# Close Session
session.close()



