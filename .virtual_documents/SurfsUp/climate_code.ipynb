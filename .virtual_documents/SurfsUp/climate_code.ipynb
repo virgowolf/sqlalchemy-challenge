%matplotlib inline
from matplotlib import style
style.use('fivethirtyeight')
import matplotlib.pyplot as plt


import numpy as np
import pandas as pd
import datetime as dt





# Python SQL toolkit and Object Relational Mapper
import sqlalchemy
from sqlalchemy.ext.automap import automap_base
from sqlalchemy.orm import Session
from sqlalchemy import create_engine, func, inspect


# create engine to hawaii.sqlite
engine = create_engine("sqlite:///Resources/hawaii.sqlite")


# reflect an existing database into a new model
Base = automap_base()

# Use the Base class to reflect the database tables
Base.prepare(autoload_with=engine)


# View all of the classes that automap found
Base.classes.keys()


#Create the inspector and connect it to the engine
inspector = inspect(engine)

# Inspect columns and data types for 'measurement' table
columns= inspector.get_columns('measurement')
for column in columns:
    print(column['name'], column['type'])


# Inspect columns and data types for 'measurement' table
columns= inspector.get_columns('station')
for column in columns:
    print(column['name'], column['type'])


# Assign the measurement class to a variable called measurement
Measurement = Base.classes.measurement

# Assign the station class to a variable called station
Station= Base.classes.station


# Create our session (link) from Python to the DB
session = Session(engine)





# Find the most recent date in the data set.
from sqlalchemy import desc

most_recent_date = session.query(Measurement.date).order_by(desc(Measurement.date)).first()
print(most_recent_date)


#Using that date, get the previous 12 months of precipitation data by querying the previous 12 months of data.
from dateutil import parser, relativedelta

# Parse the end date into a datetime object
end_date = parser.parse('2017-08-23')

# Calculate the start date by subtracting 12 months from the end date
start_date = end_date - relativedelta.relativedelta(months=12)

# Query using the calculated start and end dates
precipitations = session.query(Measurement.prcp, Measurement.date).filter(Measurement.date >= start_date, Measurement.date <= end_date).all()

# Create a list of tuples containing the precipitation and date data
precip_data = [(precipitation.prcp, precipitation.date) for precipitation in precipitations]

# Print the results
for precipitation in precipitations:
    print(f"Precipitation: {precipitation}")


# Save the query results as a Pandas DataFrame. Explicitly set the column names.
precip_df = pd.DataFrame(precip_data, columns=['Precipitation', 'Date'])

# Sort the dataframe by date
precip_df= precip_df.sort_values(by='Date')
precip_df


# Use Pandas Plotting with Matplotlib to plot the data
plt.plot(precip_df['Date'], precip_df['Precipitation'])
plt.xlabel('Date', fontsize=12)

#Format x axis so only 12 dates
n= len(precip_df)//12
plt.xticks(precip_df['Date'][::n], rotation=90, fontsize=10)

#Insert labels for y axis and title
plt.ylabel('Precipitation(inches)', fontsize=12)
plt.title('Honolulu Precipitation from Aug 2016 to Aug 2017', fontsize=16)
plt.tight_layout()
plt.show()


# Use Pandas to calculate the summary statistics for the precipitation data
summary_stats = precip_df.describe()
summary_stats





from sqlalchemy import distinct

# Design a query to calculate the total number of stations in the dataset
station_count = session.query(distinct(Measurement.station)).count()
station_count


# Design a query to find the most active stations (i.e. which stations have the most rows?)
active_count = session.query(Measurement.station, func.count(Measurement.station).label('station_count')).group_by(Measurement.station)\
                             .order_by(func.count(Measurement.station).desc())\
                             .all()

# List the stations and their counts in descending order.
for station_id, count in active_count:
    print (f"Station ID: {station_id}, Count: {count}")


# Using the most active station id from the previous query, calculate the lowest, highest, and average temperature.
sel= [Measurement.station,
      func.min(Measurement.tobs).label('min_temp'),
      func.max(Measurement.tobs).label('max_temp'),
      func.avg(Measurement.tobs).label('avg_temp')]

temp_query= session.query(*sel).filter_by(station= "USC00519281").all()

#Print results
for result in temp_query:
    station, min_temp, max_temp, avg_temp = result
    print(f"Station: {station}, Min Temp: {min_temp}, Max Temp: {max_temp}, Avg Temp: {avg_temp}")


from sqlalchemy import and_

# Parse the end date into a datetime object
end_date = parser.parse('2017-08-23')

# Calculate the start date by subtracting 12 months from the end date
start_date = end_date - relativedelta.relativedelta(months=12)

#Define the station ID for the most active station
station_id="USC00519281"

# Query the last 12 months of temperature observation data for this station
new_query = session.query(Measurement.tobs).filter(
    and_(Measurement.date >= start_date, Measurement.date <= end_date, Measurement.station == station_id)
).all()


#First transform list of tuples returned from the query into temperatures
temperatures = [result[0] for result in new_query]

#plot the results as a histogram
plt.hist(temperatures, bins=12, color= 'purple')
plt.xlabel('Temperature (F)', fontsize=12)
plt.xticks(temperatures,rotation=90, fontsize=10)
plt.ylabel('Counts', fontsize=12)
plt.yticks(fontsize=12)
plt.title('Waihee Station Temperatures: Aug 2016 to Aug 2017', fontsize=14)
plt.show()





# Close Session
session.close()
